{
 "cells": [
  {
   "cell_type": "code",
   "execution_count": 6,
   "id": "83a0e321",
   "metadata": {},
   "outputs": [
    {
     "name": "stdout",
     "output_type": "stream",
     "text": [
      "Enter your height in m: 1.6\n",
      "Enter your weight in kg: 76\n",
      "30\n",
      "Your BMI is 30, You are Obese\n"
     ]
    }
   ],
   "source": [
    "height = float(input(\"Enter your height in m: \"))\n",
    "weight = float(input(\"Enter your weight in kg: \"))\n",
    "\n",
    "BMI = round(weight/(height**2))\n",
    "print(BMI)\n",
    "\n",
    "if BMI <18.5:\n",
    "    print(f\"Your BMI is {BMI}, You are Underweight\")\n",
    "elif BMI < 25:\n",
    "    print(f\"Your BMI is {BMI}, You are normal\")\n",
    "elif BMI < 30:\n",
    "    print(f\"Your BMI is {BMI}, You are Overweight\")\n",
    "elif BMI < 35:\n",
    "    print(f\"Your BMI is {BMI}, You are Obese\")\n",
    "else:\n",
    "    print(f\"Your BMI is {BMI}, you are clinically Obese\")\n",
    "\n"
   ]
  },
  {
   "cell_type": "code",
   "execution_count": null,
   "id": "c664a2e2",
   "metadata": {},
   "outputs": [],
   "source": []
  }
 ],
 "metadata": {
  "kernelspec": {
   "display_name": "Python 3 (ipykernel)",
   "language": "python",
   "name": "python3"
  },
  "language_info": {
   "codemirror_mode": {
    "name": "ipython",
    "version": 3
   },
   "file_extension": ".py",
   "mimetype": "text/x-python",
   "name": "python",
   "nbconvert_exporter": "python",
   "pygments_lexer": "ipython3",
   "version": "3.11.4"
  }
 },
 "nbformat": 4,
 "nbformat_minor": 5
}
