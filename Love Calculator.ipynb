{
 "cells": [
  {
   "cell_type": "code",
   "execution_count": 5,
   "id": "42f12cd4",
   "metadata": {},
   "outputs": [
    {
     "name": "stdout",
     "output_type": "stream",
     "text": [
      "WELCOME TO LOVE CALCULATOR\n",
      "Please Enter your name: Bett\n",
      "Enter your lover's name: Susan\n",
      "You look perfect for each other\n"
     ]
    }
   ],
   "source": [
    "print(\"WELCOME TO LOVE CALCULATOR\")\n",
    "\n",
    "#Prompt the users to enter their names\n",
    "\n",
    "name1 = input(\"Please Enter your name: \")\n",
    "name2 = input(\"Enter your lover's name: \")\n",
    "\n",
    "#Concatanating the variables name1 and name2\n",
    "\n",
    "combined_string = name1 + name2\n",
    "\n",
    "#Converting the sting into lower case\n",
    "\n",
    "combined_string_lower = combined_string.lower()\n",
    "\n",
    "#Checking the no of occurence in characters\n",
    "\n",
    "t = combined_string_lower.count(\"t\")\n",
    "r = combined_string_lower.count(\"r\")\n",
    "u = combined_string_lower.count(\"u\")\n",
    "e = combined_string_lower.count(\"e\")\n",
    "\n",
    "true= t + r + u + e\n",
    "\n",
    "l = combined_string_lower.count(\"l\")\n",
    "o = combined_string_lower.count(\"o\")\n",
    "v = combined_string_lower.count(\"v\")\n",
    "e = combined_string_lower.count(\"e\")\n",
    "\n",
    "love = l + o + v + e\n",
    "\n",
    "love_score = int(str(true) +str(love))\n",
    "\n",
    "if (love_score <=10) or (love_score>=90):\n",
    "    print(f\"Your love_score is {love_score}, Your just fit together\")\n",
    "elif (love_score >= 40) and (love_score <=50):\n",
    "    print(\"You look perfect for each other\")\n",
    "else:\n",
    "\n",
    "    print(love_score)"
   ]
  },
  {
   "cell_type": "code",
   "execution_count": null,
   "id": "fde05b42",
   "metadata": {},
   "outputs": [],
   "source": []
  }
 ],
 "metadata": {
  "kernelspec": {
   "display_name": "Python 3 (ipykernel)",
   "language": "python",
   "name": "python3"
  },
  "language_info": {
   "codemirror_mode": {
    "name": "ipython",
    "version": 3
   },
   "file_extension": ".py",
   "mimetype": "text/x-python",
   "name": "python",
   "nbconvert_exporter": "python",
   "pygments_lexer": "ipython3",
   "version": "3.11.4"
  }
 },
 "nbformat": 4,
 "nbformat_minor": 5
}
