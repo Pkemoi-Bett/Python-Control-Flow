{
 "cells": [
  {
   "cell_type": "code",
   "execution_count": 5,
   "id": "608f8895",
   "metadata": {},
   "outputs": [
    {
     "name": "stdout",
     "output_type": "stream",
     "text": [
      "HELLO WELCOME TO ROLLERCOASTER\n",
      "Enter your height in cm:122\n",
      "Enter your age: 19\n",
      "You can ride the rollercoaster!\n",
      "The Bill of a youth is sh 200\n",
      "Do you want a photo? Y or NY\n",
      "Your Final bill is 250\n"
     ]
    }
   ],
   "source": [
    "print(\"HELLO WELCOME TO ROLLERCOASTER\")\n",
    "height = int(input(\"Enter your height in cm:\"))\n",
    "age = int(input(\"Enter your age: \"))\n",
    "bill = 0\n",
    "if height >= 100:\n",
    "    \n",
    "    print(\"You can ride the rollercoaster!\")\n",
    "    if age <= 10:\n",
    "        bill = 100\n",
    "        print(\"The Bill for a child is sh 100\")\n",
    "    elif age > 10 & age <=18:\n",
    "        bill = 200\n",
    "        print(\"The Bill of a youth is sh 200\")\n",
    "    else:\n",
    "        bill = 300\n",
    "        print(\"The Bill for an adult is 300\")\n",
    "#Ask a user if she or he wants a photo\n",
    "    want_photo = input(\"Do you want a photo? Y or N\")\n",
    "    if want_photo == \"Y\":\n",
    "        bill+=50\n",
    "    print(f\"Your Final bill is {bill}\")\n",
    "        \n",
    "else:\n",
    "    print(\"Sorry, you have to grow taller to ride rollercoaster\")"
   ]
  },
  {
   "cell_type": "code",
   "execution_count": null,
   "id": "9f9577a5",
   "metadata": {},
   "outputs": [],
   "source": []
  },
  {
   "cell_type": "code",
   "execution_count": null,
   "id": "29dc1d8d",
   "metadata": {},
   "outputs": [],
   "source": []
  },
  {
   "cell_type": "code",
   "execution_count": null,
   "id": "2ccc8804",
   "metadata": {},
   "outputs": [],
   "source": []
  },
  {
   "cell_type": "code",
   "execution_count": null,
   "id": "921222aa",
   "metadata": {},
   "outputs": [],
   "source": []
  }
 ],
 "metadata": {
  "kernelspec": {
   "display_name": "Python 3 (ipykernel)",
   "language": "python",
   "name": "python3"
  },
  "language_info": {
   "codemirror_mode": {
    "name": "ipython",
    "version": 3
   },
   "file_extension": ".py",
   "mimetype": "text/x-python",
   "name": "python",
   "nbconvert_exporter": "python",
   "pygments_lexer": "ipython3",
   "version": "3.11.4"
  }
 },
 "nbformat": 4,
 "nbformat_minor": 5
}
