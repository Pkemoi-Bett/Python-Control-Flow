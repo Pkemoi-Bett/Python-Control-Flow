{
 "cells": [
  {
   "cell_type": "code",
   "execution_count": 27,
   "id": "ba9c6128",
   "metadata": {},
   "outputs": [
    {
     "name": "stdout",
     "output_type": "stream",
     "text": [
      "WELCOME TO TREASURE ISLAND!\n",
      "Your mission is to find Treasure\n",
      "You are at the check point! Dou want to go \"Left\" \"Right\"right\n",
      "You've come by a lake, there is an island in the middle. Do want to \"Swim\" or Do you want to \"Wait\" for a boatswim\n"
     ]
    },
    {
     "ename": "NameError",
     "evalue": "name 'wait' is not defined",
     "output_type": "error",
     "traceback": [
      "\u001b[0;31m---------------------------------------------------------------------------\u001b[0m",
      "\u001b[0;31mNameError\u001b[0m                                 Traceback (most recent call last)",
      "Cell \u001b[0;32mIn [27], line 8\u001b[0m\n\u001b[1;32m      6\u001b[0m \u001b[38;5;28;01mif\u001b[39;00m (choice1 \u001b[38;5;241m==\u001b[39m\u001b[38;5;124m\"\u001b[39m\u001b[38;5;124mRight\u001b[39m\u001b[38;5;124m\"\u001b[39m) \u001b[38;5;129;01mor\u001b[39;00m (choice1 \u001b[38;5;241m==\u001b[39m \u001b[38;5;124m\"\u001b[39m\u001b[38;5;124mright\u001b[39m\u001b[38;5;124m\"\u001b[39m):\n\u001b[1;32m      7\u001b[0m         choice1 \u001b[38;5;241m=\u001b[39m \u001b[38;5;28minput\u001b[39m(\u001b[38;5;124m'\u001b[39m\u001b[38;5;124mYou\u001b[39m\u001b[38;5;130;01m\\'\u001b[39;00m\u001b[38;5;124mve come by a lake, there is an island in the middle. Do want to \u001b[39m\u001b[38;5;124m\"\u001b[39m\u001b[38;5;124mSwim\u001b[39m\u001b[38;5;124m\"\u001b[39m\u001b[38;5;124m or Do you want to \u001b[39m\u001b[38;5;124m\"\u001b[39m\u001b[38;5;124mWait\u001b[39m\u001b[38;5;124m\"\u001b[39m\u001b[38;5;124m for a boat\u001b[39m\u001b[38;5;124m'\u001b[39m)\n\u001b[0;32m----> 8\u001b[0m         \u001b[38;5;28;01mif\u001b[39;00m(choice1\u001b[38;5;241m==\u001b[39m\u001b[43mwait\u001b[49m) \u001b[38;5;129;01mor\u001b[39;00m (choice1 \u001b[38;5;241m==\u001b[39m Wait):\n\u001b[1;32m      9\u001b[0m             choice2\u001b[38;5;241m=\u001b[39m\u001b[38;5;28minput\u001b[39m(\u001b[38;5;124m'\u001b[39m\u001b[38;5;124mYou\u001b[39m\u001b[38;5;130;01m\\'\u001b[39;00m\u001b[38;5;124mve arrived at the island unharmed, there are three doors. One \u001b[39m\u001b[38;5;124m\"\u001b[39m\u001b[38;5;124mRed\u001b[39m\u001b[38;5;124m\"\u001b[39m\u001b[38;5;124m, one \u001b[39m\u001b[38;5;124m\"\u001b[39m\u001b[38;5;124mYellow\u001b[39m\u001b[38;5;124m\"\u001b[39m\u001b[38;5;124m and \u001b[39m\u001b[38;5;124m\"\u001b[39m\u001b[38;5;124mBlue\u001b[39m\u001b[38;5;124m\"\u001b[39m\u001b[38;5;124m. Which one do you choose?\u001b[39m\u001b[38;5;124m'\u001b[39m)\n\u001b[1;32m     11\u001b[0m             \u001b[38;5;28;01mif\u001b[39;00m(choice2\u001b[38;5;241m==\u001b[39mRed):\n",
      "\u001b[0;31mNameError\u001b[0m: name 'wait' is not defined"
     ]
    }
   ],
   "source": [
    "print(\"WELCOME TO TREASURE ISLAND!\")\n",
    "print(\"Your mission is to find Treasure\")\n",
    "\n",
    "#Prompt user to make choices when playing the game\n",
    "choice1 = input('You are at the check point! Dou want to go \"Left\" \"Right\"')\n",
    "if (choice1 ==\"Right\") or (choice1 == \"right\"):\n",
    "        choice1 = input('You\\'ve come by a lake, there is an island in the middle. Do want to \"Swim\" or Do you want to \"Wait\" for a boat')\n",
    "        if(choice1==wait) or (choice1 == Wait):\n",
    "            choice2=input('You\\'ve arrived at the island unharmed, there are three doors. One \"Red\", one \"Yellow\" and \"Blue\". Which one do you choose?')\n",
    "                    \n",
    "            if(choice2==Red):\n",
    "                print(\"The room is full of FIRE!!! Game over\")\n",
    "                \n",
    "            elif(choice==Yellow):\n",
    "                print(\"WOW! You found the treasure. You win\")\n",
    "            elif(choice2==Blue):\n",
    "                print(\"The room is full of Beasts!! Game over\")\n",
    "            else:\n",
    "                print(\"You chose the door that does not exist. Game over\")\n",
    "    \n",
    "        else:\n",
    "            print(\"You were attacked by a crocodile!! Game over\") \n",
    "else:\n",
    "    print(\"You fell into a trap game over\")\n",
    "    \n"
   ]
  },
  {
   "cell_type": "code",
   "execution_count": null,
   "id": "1fd9c541",
   "metadata": {},
   "outputs": [],
   "source": []
  },
  {
   "cell_type": "code",
   "execution_count": null,
   "id": "9c308c3a",
   "metadata": {},
   "outputs": [],
   "source": []
  }
 ],
 "metadata": {
  "kernelspec": {
   "display_name": "Python 3 (ipykernel)",
   "language": "python",
   "name": "python3"
  },
  "language_info": {
   "codemirror_mode": {
    "name": "ipython",
    "version": 3
   },
   "file_extension": ".py",
   "mimetype": "text/x-python",
   "name": "python",
   "nbconvert_exporter": "python",
   "pygments_lexer": "ipython3",
   "version": "3.11.4"
  }
 },
 "nbformat": 4,
 "nbformat_minor": 5
}
